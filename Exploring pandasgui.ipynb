{
 "cells": [
  {
   "cell_type": "code",
   "execution_count": 5,
   "metadata": {},
   "outputs": [],
   "source": [
    "#importing necessary documents\n",
    "import pandas as pd\n",
    "from pandasgui import show"
   ]
  },
  {
   "cell_type": "code",
   "execution_count": 6,
   "metadata": {},
   "outputs": [],
   "source": [
    "#reading the dataset using pandas and using ; delimiter and then selecting most important variables to be a part of the dataset\n",
    "\n",
    "bank = pd.read_csv('C:/Users/13122/Downloads/bank.csv',sep=\";\")\n",
    "bank = bank[[\"marital\",\"education\",\"default\",\"housing\",\"loan\",\"duration\",\"campaign\",\"pdays\",\"y\"]]"
   ]
  },
  {
   "cell_type": "code",
   "execution_count": 7,
   "metadata": {},
   "outputs": [
    {
     "name": "stderr",
     "output_type": "stream",
     "text": [
      "PandasGUI ERROR — pandasgui.store — name 'tertiary' is not defined\n",
      "Traceback (most recent call last):\n",
      "  File \"C:\\Users\\13122\\anaconda3\\lib\\site-packages\\pandas\\core\\computation\\scope.py\", line 187, in resolve\n",
      "    return self.resolvers[key]\n",
      "  File \"C:\\Users\\13122\\anaconda3\\lib\\collections\\__init__.py\", line 898, in __getitem__\n",
      "    return self.__missing__(key)            # support subclasses that define __missing__\n",
      "  File \"C:\\Users\\13122\\anaconda3\\lib\\collections\\__init__.py\", line 890, in __missing__\n",
      "    raise KeyError(key)\n",
      "KeyError: 'tertiary'\n",
      "\n",
      "During handling of the above exception, another exception occurred:\n",
      "\n",
      "Traceback (most recent call last):\n",
      "  File \"C:\\Users\\13122\\anaconda3\\lib\\site-packages\\pandas\\core\\computation\\scope.py\", line 198, in resolve\n",
      "    return self.temps[key]\n",
      "KeyError: 'tertiary'\n",
      "\n",
      "During handling of the above exception, another exception occurred:\n",
      "\n",
      "Traceback (most recent call last):\n",
      "  File \"C:\\Users\\13122\\anaconda3\\lib\\site-packages\\pandasgui\\store.py\", line 378, in apply_filters\n",
      "    df = df.query(filt.expr)\n",
      "  File \"C:\\Users\\13122\\anaconda3\\lib\\site-packages\\pandas\\core\\frame.py\", line 3231, in query\n",
      "    res = self.eval(expr, **kwargs)\n",
      "  File \"C:\\Users\\13122\\anaconda3\\lib\\site-packages\\pandas\\core\\frame.py\", line 3346, in eval\n",
      "    return _eval(expr, inplace=inplace, **kwargs)\n",
      "  File \"C:\\Users\\13122\\anaconda3\\lib\\site-packages\\pandas\\core\\computation\\eval.py\", line 332, in eval\n",
      "    parsed_expr = Expr(expr, engine=engine, parser=parser, env=env)\n",
      "  File \"C:\\Users\\13122\\anaconda3\\lib\\site-packages\\pandas\\core\\computation\\expr.py\", line 764, in __init__\n",
      "    self.terms = self.parse()\n",
      "  File \"C:\\Users\\13122\\anaconda3\\lib\\site-packages\\pandas\\core\\computation\\expr.py\", line 781, in parse\n",
      "    return self._visitor.visit(self.expr)\n",
      "  File \"C:\\Users\\13122\\anaconda3\\lib\\site-packages\\pandas\\core\\computation\\expr.py\", line 375, in visit\n",
      "    return visitor(node, **kwargs)\n",
      "  File \"C:\\Users\\13122\\anaconda3\\lib\\site-packages\\pandas\\core\\computation\\expr.py\", line 381, in visit_Module\n",
      "    return self.visit(expr, **kwargs)\n",
      "  File \"C:\\Users\\13122\\anaconda3\\lib\\site-packages\\pandas\\core\\computation\\expr.py\", line 375, in visit\n",
      "    return visitor(node, **kwargs)\n",
      "  File \"C:\\Users\\13122\\anaconda3\\lib\\site-packages\\pandas\\core\\computation\\expr.py\", line 384, in visit_Expr\n",
      "    return self.visit(node.value, **kwargs)\n",
      "  File \"C:\\Users\\13122\\anaconda3\\lib\\site-packages\\pandas\\core\\computation\\expr.py\", line 375, in visit\n",
      "    return visitor(node, **kwargs)\n",
      "  File \"C:\\Users\\13122\\anaconda3\\lib\\site-packages\\pandas\\core\\computation\\expr.py\", line 676, in visit_Compare\n",
      "    return self.visit(binop)\n",
      "  File \"C:\\Users\\13122\\anaconda3\\lib\\site-packages\\pandas\\core\\computation\\expr.py\", line 375, in visit\n",
      "    return visitor(node, **kwargs)\n",
      "  File \"C:\\Users\\13122\\anaconda3\\lib\\site-packages\\pandas\\core\\computation\\expr.py\", line 497, in visit_BinOp\n",
      "    op, op_class, left, right = self._maybe_transform_eq_ne(node)\n",
      "  File \"C:\\Users\\13122\\anaconda3\\lib\\site-packages\\pandas\\core\\computation\\expr.py\", line 418, in _maybe_transform_eq_ne\n",
      "    right = self.visit(node.right, side=\"right\")\n",
      "  File \"C:\\Users\\13122\\anaconda3\\lib\\site-packages\\pandas\\core\\computation\\expr.py\", line 375, in visit\n",
      "    return visitor(node, **kwargs)\n",
      "  File \"C:\\Users\\13122\\anaconda3\\lib\\site-packages\\pandas\\core\\computation\\expr.py\", line 510, in visit_Name\n",
      "    return self.term_type(node.id, self.env, **kwargs)\n",
      "  File \"C:\\Users\\13122\\anaconda3\\lib\\site-packages\\pandas\\core\\computation\\ops.py\", line 82, in __init__\n",
      "    self._value = self._resolve_name()\n",
      "  File \"C:\\Users\\13122\\anaconda3\\lib\\site-packages\\pandas\\core\\computation\\ops.py\", line 99, in _resolve_name\n",
      "    res = self.env.resolve(self.local_name, is_local=self.is_local)\n",
      "  File \"C:\\Users\\13122\\anaconda3\\lib\\site-packages\\pandas\\core\\computation\\scope.py\", line 203, in resolve\n",
      "    raise UndefinedVariableError(key, is_local)\n",
      "pandas.core.computation.ops.UndefinedVariableError: name 'tertiary' is not defined\n"
     ]
    }
   ],
   "source": [
    "gui = show(bank)"
   ]
  },
  {
   "cell_type": "code",
   "execution_count": 10,
   "metadata": {},
   "outputs": [
    {
     "name": "stdout",
     "output_type": "stream",
     "text": [
      "<pandasgui.gui.PandasGui object at 0x000001FD682D14C0>\n"
     ]
    }
   ],
   "source": []
  }
 ],
 "metadata": {
  "kernelspec": {
   "display_name": "Python 3",
   "language": "python",
   "name": "python3"
  },
  "language_info": {
   "codemirror_mode": {
    "name": "ipython",
    "version": 3
   },
   "file_extension": ".py",
   "mimetype": "text/x-python",
   "name": "python",
   "nbconvert_exporter": "python",
   "pygments_lexer": "ipython3",
   "version": "3.8.3"
  }
 },
 "nbformat": 4,
 "nbformat_minor": 4
}
